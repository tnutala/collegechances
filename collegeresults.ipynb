{
 "cells": [
  {
   "cell_type": "code",
   "execution_count": 1,
   "id": "b84cb9ad",
   "metadata": {},
   "outputs": [],
   "source": [
    "import praw\n",
    "import pandas as pd\n",
    "import re\n"
   ]
  },
  {
   "cell_type": "code",
   "execution_count": 2,
   "id": "9c0c1a19",
   "metadata": {},
   "outputs": [],
   "source": [
    "# Set up PRAW with your Reddit API credentials\n",
    "\n",
    "reddit = praw.Reddit(client_id = \"\", \n",
    "                     client_secret = \"\",\n",
    "                     user_agent = \"\", \n",
    "                     username=\"\",\n",
    "                    password = \"\")\n",
    "\n",
    "\n",
    "# Function to extract posts from a subreddit\n",
    "def extract_subreddit_data(subreddit, limit=100):\n",
    "    posts = []\n",
    "    for submission in reddit.subreddit(subreddit).hot(limit=limit):\n",
    "        # Extract relevant data from each post\n",
    "        posts.append({\n",
    "            'author':submission.author,\n",
    "            'author_flair_text':submission.author_flair_text,\n",
    "            'created_utc': submission.created_utc,\n",
    "            'is_self' : submission.is_self,\n",
    "            'link_flair_text':submission.link_flair_text,\n",
    "            'name':submission.name,\n",
    "            'num_comments':submission.num_comments,\n",
    "            'score':submission.score,\n",
    "            'selftext':submission.selftext,\n",
    "            'stickied':submission.stickied,\n",
    "            'title':submission.title,\n",
    "            'upvote_ratio':submission.upvote_ratio,\n",
    "            'url': submission.url\n",
    "        })\n",
    "    return posts\n",
    "\n",
    "\n",
    "\n",
    "# Extract data from r/collegeresults\n",
    "data = extract_subreddit_data('collegeresults')"
   ]
  },
  {
   "cell_type": "code",
   "execution_count": 3,
   "id": "c611341b",
   "metadata": {},
   "outputs": [],
   "source": [
    "\n",
    "# Convert data to a pandas DataFrame for easier processing\n",
    "df = pd.DataFrame(data)"
   ]
  },
  {
   "cell_type": "code",
   "execution_count": 4,
   "id": "55d95302",
   "metadata": {},
   "outputs": [],
   "source": [
    "df = df[~df.stickied]\n"
   ]
  },
  {
   "cell_type": "code",
   "execution_count": 5,
   "id": "2e565929",
   "metadata": {},
   "outputs": [
    {
     "data": {
      "text/plain": [
       "'Other'"
      ]
     },
     "execution_count": 5,
     "metadata": {},
     "output_type": "execute_result"
    }
   ],
   "source": [
    "df.link_flair_text.apply(lambda x: re.sub('\\+',\"\",x.split('|')[0]) if x!= 'Other' else 'a').loc[95]\n",
    "\n"
   ]
  },
  {
   "cell_type": "code",
   "execution_count": 6,
   "id": "1e11a68c",
   "metadata": {},
   "outputs": [
    {
     "data": {
      "text/plain": [
       "'Other|1400+/31+|Art/Hum'"
      ]
     },
     "execution_count": 6,
     "metadata": {},
     "output_type": "execute_result"
    }
   ],
   "source": [
    "df.link_flair_text.loc[95]"
   ]
  },
  {
   "cell_type": "code",
   "execution_count": 7,
   "id": "396d9023",
   "metadata": {},
   "outputs": [],
   "source": [
    "df['gpa'] = df.link_flair_text.apply(lambda x: re.sub('\\+',\"\",x.split('|')[0]) if x.split('|')[0]!= 'Other' else None)\n",
    "\n",
    "df['test_scores'] = df.link_flair_text.apply(lambda x: (x.split('|'))[1])\n",
    "\n",
    "df['major'] = df.link_flair_text.apply(lambda x: (x.split('|'))[2])\n",
    "\n"
   ]
  },
  {
   "cell_type": "code",
   "execution_count": 8,
   "id": "f71122bb",
   "metadata": {},
   "outputs": [],
   "source": [
    "df['sat_score'] = df.test_scores.apply(lambda x: re.sub('\\+',\"\",x.split('/')[0]) if x.split('/')[0]!='Other' else None).astype(float)\n",
    "df['act_score'] = df.test_scores.apply(lambda x: re.sub('\\+',\"\",x.split('/')[1]) if x!='Other' else None).astype(float)"
   ]
  },
  {
   "cell_type": "code",
   "execution_count": null,
   "id": "9e41bb60",
   "metadata": {},
   "outputs": [],
   "source": []
  },
  {
   "cell_type": "code",
   "execution_count": 9,
   "id": "d2755c7e",
   "metadata": {},
   "outputs": [
    {
     "ename": "NameError",
     "evalue": "name 'post_content' is not defined",
     "output_type": "error",
     "traceback": [
      "\u001b[0;31m---------------------------------------------------------------------------\u001b[0m",
      "\u001b[0;31mNameError\u001b[0m                                 Traceback (most recent call last)",
      "Cell \u001b[0;32mIn[9], line 87\u001b[0m\n\u001b[1;32m     82\u001b[0m         \u001b[38;5;28;01mreturn\u001b[39;00m []\n\u001b[1;32m     85\u001b[0m \u001b[38;5;66;03m# Example usage\u001b[39;00m\n\u001b[0;32m---> 87\u001b[0m demographics \u001b[38;5;241m=\u001b[39m parse_demographics(post_content)\n\u001b[1;32m     88\u001b[0m academics \u001b[38;5;241m=\u001b[39m parse_academics(post_content)\n\u001b[1;32m     89\u001b[0m standardized_testing \u001b[38;5;241m=\u001b[39m parse_standardized_testing(post_content)\n",
      "\u001b[0;31mNameError\u001b[0m: name 'post_content' is not defined"
     ]
    }
   ],
   "source": [
    "\n",
    "def extract_section(post, section_title):\n",
    "    pattern = r\"\\*\\*{}.*?\\*\\*(.*?)(?=\\*\\*[A-Z]|$)\".format(re.escape(section_title))\n",
    "    match = re.search(pattern, post, re.IGNORECASE | re.DOTALL)\n",
    "    return match.group(1).strip() if match else None\n",
    "\n",
    "def parse_key_value_list(section_text):\n",
    "    items = re.findall(r\"\\*\\s*(.*?):\\s*(.*)\", section_text)\n",
    "    return {item[0].strip(): item[1].strip() for item in items}\n",
    "\n",
    "def parse_numbered_list(section_text):\n",
    "    items = re.findall(r\"^(\\d+)\\.\\s*(.*?)$\", section_text, re.MULTILINE)\n",
    "    return {f\"#{num}\": item.strip() for num, item in items}\n",
    "\n",
    "def parse_simple_list(section_text):\n",
    "    items = re.findall(r\"\\*\\s*(.*)\", section_text)\n",
    "    return items\n",
    "\n",
    "\n",
    "def parse_demographics(post):\n",
    "\n",
    "    section = extract_section(post, \"Academics\")\n",
    "\n",
    "    demographics = {}\n",
    "\n",
    "    # Define patterns for each demographic category\n",
    "    patterns = {\n",
    "        'Gender': r'Gender\\s*:\\s*([^\\n]+)',\n",
    "        'Race/ethnicity': r'Race/ethnicity\\s*:\\s*([^\\n]+)',\n",
    "        'Residence': r'Residence\\s*:\\s*([^\\n]+)',\n",
    "        'Income Bracket': r'Income Bracket\\s*:\\s*([^\\n]+)',\n",
    "        'Type of School': r'Type of School\\s*:\\s*([^\\n]+)',\n",
    "        'Hooks': r'Hooks\\s*:\\s*([^\\n]+)'\n",
    "    }\n",
    "\n",
    "    # Extract information for each category\n",
    "    for category, pattern in patterns.items():\n",
    "        match = re.search(pattern, post)\n",
    "        demographics[category] = match.group(1).strip() if match else None\n",
    "\n",
    "    return demographics\n",
    "\n",
    "\n",
    "def parse_academics(post):\n",
    "    section = extract_section(post, \"Academics\")\n",
    "    return parse_key_value_list(section) if section else {}\n",
    "\n",
    "def parse_standardized_testing(post):\n",
    "    section = extract_section(post, \"Standardized Testing\")\n",
    "    return parse_key_value_list(section) if section else {}\n",
    "\n",
    "def parse_extracurriculars(post):\n",
    "    section = extract_section(post, \"Extracurriculars/Activities\")\n",
    "    return parse_numbered_list(section) if section else {}\n",
    "\n",
    "def parse_awards(post):\n",
    "    section = extract_section(post, \"Awards/honors\")\n",
    "    return parse_numbered_list(section) if section else {}\n",
    "\n",
    "def parse_letters_of_recommendation(post):\n",
    "    section = extract_section(post, \"Letters of Recommendation\")\n",
    "    return parse_simple_list(section) if section else {}\n",
    "\n",
    "def parse_essays(post):\n",
    "    section = extract_section(post, \"Essays\")\n",
    "    return parse_key_value_list(section) if section else {}\n",
    "\n",
    "def parse_decisions(post):\n",
    "#     section = extract_section(post, \"Decisions\")\n",
    "#     return parse_key_value_list(section) if section else {}\n",
    "    # Find the section that starts with 'Acceptances:'\n",
    "    # Find the section that starts with 'Acceptances:'\n",
    "    acceptances_section = re.search(r'(Acceptances|Accepted):\\s*\\*?\\s*(.*?)\\s*(?=\\*\\*[A-Z]|$)', post, re.IGNORECASE | re.DOTALL)\n",
    "\n",
    "    if acceptances_section:\n",
    "        acceptances_text = acceptances_section.group(1)\n",
    "        \n",
    "        # Extract individual universities\n",
    "        universities = re.findall(r'[\\n\\*]\\s*(.+?)(?:\\s*\\n|$)', acceptances_text)\n",
    "        return [uni.strip() for uni in universities if uni.strip()]\n",
    "    else:\n",
    "\n",
    "        return []\n",
    "    \n",
    "\n",
    "# Example usage\n",
    "\n",
    "demographics = parse_demographics(post_content)\n",
    "academics = parse_academics(post_content)\n",
    "standardized_testing = parse_standardized_testing(post_content)\n",
    "extracurriculars = parse_extracurriculars(post_content)\n",
    "awards = parse_awards(post_content)\n",
    "letters_of_recommendation = parse_letters_of_recommendation(post_content)\n",
    "essays = parse_essays(post_content)\n",
    "decisions = parse_decisions(post_content)\n",
    "\n",
    "\n",
    "\n",
    "\n",
    "# Output the results\n",
    "print(\"Demographics:\", demographics)\n",
    "print(\"Academics:\", academics)\n",
    "print(\"Standardized Testing:\", standardized_testing)\n",
    "print(\"Extracurriculars:\", extracurriculars)\n",
    "print(\"Awards:\", awards)\n",
    "print(\"Letters of Recommendation:\", letters_of_recommendation)\n",
    "print(\"Essays:\", essays)\n",
    "print(\"Decisions:\", decisions)\n",
    "\n",
    "\n"
   ]
  },
  {
   "cell_type": "code",
   "execution_count": null,
   "id": "63d2548f",
   "metadata": {},
   "outputs": [],
   "source": [
    "df['demographics'] = df.selftext.apply(lambda x: parse_demographics(x))\n",
    "# df['academics']\n",
    "# df['standardized_testing']\n",
    "# df['extracurriculars']\n",
    "# df['awards']\n",
    "# df['letters_of_recommendation']\n",
    "# df['essays']\n",
    "df['decisions'] = df.selftext.apply(lambda x: parse_decisions(x))\n",
    "\n",
    "df['decisions']"
   ]
  },
  {
   "cell_type": "code",
   "execution_count": null,
   "id": "3ba93cfd",
   "metadata": {},
   "outputs": [],
   "source": [
    "df.selftext.loc[98]"
   ]
  },
  {
   "cell_type": "code",
   "execution_count": null,
   "id": "ee6d13df",
   "metadata": {},
   "outputs": [],
   "source": [
    "demographics_df = pd.json_normalize(df['demographics'])\n",
    "\n",
    "new_df = pd.concat([df,demographics_df],axis=1)"
   ]
  },
  {
   "cell_type": "code",
   "execution_count": null,
   "id": "c41e8492",
   "metadata": {},
   "outputs": [],
   "source": [
    "new_df"
   ]
  },
  {
   "cell_type": "code",
   "execution_count": null,
   "id": "3db87d2f",
   "metadata": {},
   "outputs": [],
   "source": [
    "sum(df.decisions.apply(lambda x: len(x))==0)"
   ]
  },
  {
   "cell_type": "code",
   "execution_count": null,
   "id": "73ed9553",
   "metadata": {},
   "outputs": [],
   "source": [
    "demographics['Gender'],demographics['Race/ethnicity'],\n",
    "demographics['Residence'],demographics['Income Bracket'],\n",
    "demographics['Type of School'],"
   ]
  },
  {
   "cell_type": "code",
   "execution_count": null,
   "id": "26291437",
   "metadata": {},
   "outputs": [],
   "source": [
    "pd.Series(demographics)\n",
    "\n",
    "pd.Series(academics)"
   ]
  },
  {
   "cell_type": "code",
   "execution_count": null,
   "id": "0d6dbe15",
   "metadata": {},
   "outputs": [],
   "source": [
    "df.selftext.apply(lambda x: )"
   ]
  },
  {
   "cell_type": "code",
   "execution_count": null,
   "id": "0d31fa2a",
   "metadata": {},
   "outputs": [],
   "source": [
    "final_data = df"
   ]
  },
  {
   "cell_type": "code",
   "execution_count": null,
   "id": "e0887a82",
   "metadata": {},
   "outputs": [],
   "source": [
    "from sklearn.model_selection import train_test_split\n",
    "from sklearn.ensemble import RandomForestClassifier\n",
    "from sklearn.metrics import accuracy_score\n",
    "\n",
    "# Split data into features (X) and target (y)\n",
    "X = df[['GPA', 'TestScores']]  # Include other features as necessary\n",
    "y = df['Accepted']  # You need a target variable indicating acceptance\n",
    "\n",
    "# Split data into training and testing sets\n",
    "X_train, X_test, y_train, y_test = train_test_split(X, y, test_size=0.2, random_state=42)\n",
    "\n",
    "# Train a model (Random Forest as an example)\n",
    "model = RandomForestClassifier()\n",
    "model.fit(X_train, y_train)\n",
    "\n",
    "# Evaluate the model\n",
    "predictions = model.predict(X_test)\n",
    "print(\"Accuracy:\", accuracy_score(y_test, predictions))\n"
   ]
  },
  {
   "cell_type": "code",
   "execution_count": null,
   "id": "099f36ab",
   "metadata": {},
   "outputs": [],
   "source": [
    "def get_user_input():\n",
    "    # Get user data (GPA, Test Scores, etc.)\n",
    "    # For example:\n",
    "    user_gpa = float(input(\"Enter your GPA: \"))\n",
    "    user_test_scores = float(input(\"Enter your test scores: \"))\n",
    "    return [user_gpa, user_test_scores]\n",
    "\n",
    "def predict_acceptance(model, user_input):\n",
    "    # Predict using the model\n",
    "    prediction = model.predict([user_input])\n",
    "    return prediction\n",
    "\n",
    "# Example usage\n",
    "user_input = get_user_input()\n",
    "prediction = predict_acceptance(model, user_input)\n",
    "print(\"Probability of acceptance:\", prediction)\n"
   ]
  }
 ],
 "metadata": {
  "kernelspec": {
   "display_name": "Python 3 (ipykernel)",
   "language": "python",
   "name": "python3"
  },
  "language_info": {
   "codemirror_mode": {
    "name": "ipython",
    "version": 3
   },
   "file_extension": ".py",
   "mimetype": "text/x-python",
   "name": "python",
   "nbconvert_exporter": "python",
   "pygments_lexer": "ipython3",
   "version": "3.11.3"
  }
 },
 "nbformat": 4,
 "nbformat_minor": 5
}
