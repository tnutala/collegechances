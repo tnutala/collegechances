{
 "cells": [
  {
   "cell_type": "code",
   "execution_count": 1,
   "metadata": {},
   "outputs": [],
   "source": [
    "import praw\n",
    "import pandas as pd\n",
    "import re\n",
    "from dotenv import load_dotenv\n",
    "import os"
   ]
  },
  {
   "cell_type": "code",
   "execution_count": 2,
   "metadata": {},
   "outputs": [],
   "source": [
    "load_dotenv()\n",
    "\n",
    "REDDIT_CLIENT_ID = os.getenv(\"REDDIT_CLIENT_ID\",)\n",
    "REDDIT_CLIENT_SECRET = os.getenv(\"REDDIT_CLIENT_SECRET\")\n",
    "REDDIT_USER_AGENT = os.getenv(\"REDDIT_USER_AGENT\")\n",
    "REDDIT_USER_NAME = os.getenv(\"REDDIT_USER_NAME\")\n",
    "REDDIT_USER_PASSWORD = os.getenv(\"REDDIT_USER_PASSWORD\")\n",
    "\n",
    "assert REDDIT_CLIENT_ID != \"\"\n",
    "assert REDDIT_CLIENT_SECRET != \"\"\n",
    "assert REDDIT_USER_AGENT != \"\""
   ]
  },
  {
   "cell_type": "code",
   "execution_count": 3,
   "metadata": {},
   "outputs": [],
   "source": [
    "reddit = praw.Reddit(\n",
    "    client_id = REDDIT_CLIENT_ID,\n",
    "    client_secret = REDDIT_CLIENT_SECRET,\n",
    "    user_agent = REDDIT_USER_AGENT\n",
    ")"
   ]
  },
  {
   "cell_type": "code",
   "execution_count": 28,
   "metadata": {},
   "outputs": [],
   "source": [
    "# Function to extract posts from a subreddit\n",
    "def extract_subreddit_data(subreddit, limit=100):\n",
    "    posts = []\n",
    "    for submission in reddit.subreddit(subreddit).hot(limit=limit):\n",
    "        # Extract relevant data from each post\n",
    "        posts.append({\n",
    "            'author':submission.author,\n",
    "            'author_flair_text':submission.author_flair_text,\n",
    "            'created_utc': submission.created_utc,\n",
    "            'is_self' : submission.is_self,\n",
    "            'link_flair_text':submission.link_flair_text,\n",
    "            'name':submission.name,\n",
    "            'num_comments':submission.num_comments,\n",
    "            'score':submission.score,\n",
    "            'selftext':submission.selftext,\n",
    "            'stickied':submission.stickied,\n",
    "            'title':submission.title,\n",
    "            'upvote_ratio':submission.upvote_ratio,\n",
    "            'url': submission.url\n",
    "        })\n",
    "    return posts"
   ]
  },
  {
   "cell_type": "code",
   "execution_count": 29,
   "metadata": {},
   "outputs": [],
   "source": [
    "# Extract data from r/collegeresults\n",
    "data = extract_subreddit_data('collegeresults')\n",
    "\n",
    "# convert to pd dataframe\n",
    "df = pd.DataFrame(data)\n",
    "\n",
    "# remove stickied \n",
    "df = df[~df.stickied]"
   ]
  },
  {
   "cell_type": "code",
   "execution_count": 66,
   "metadata": {},
   "outputs": [
    {
     "data": {
      "text/plain": [
       "'Other|1400+/31+|Art/Hum'"
      ]
     },
     "execution_count": 66,
     "metadata": {},
     "output_type": "execute_result"
    }
   ],
   "source": [
    "# check link flair text\n",
    "df.link_flair_text.apply(lambda x: re.sub('\\+',\"\",x.split('|')[0]) if x!= 'Other' else 'a')\n",
    "df.link_flair_text.loc[95]"
   ]
  },
  {
   "cell_type": "code",
   "execution_count": 68,
   "metadata": {},
   "outputs": [],
   "source": [
    "# extract demographics from link flair text\n",
    "df['gpa'] = df.link_flair_text.apply(lambda x: re.sub('\\+',\"\",x.split('|')[0]) if x.split('|')[0]!= 'Other' else None)\n",
    "\n",
    "df['test_scores'] = df.link_flair_text.apply(lambda x: (x.split('|'))[1])\n",
    "\n",
    "df['major'] = df.link_flair_text.apply(lambda x: (x.split('|'))[2])"
   ]
  },
  {
   "cell_type": "code",
   "execution_count": 62,
   "metadata": {},
   "outputs": [
    {
     "name": "stdout",
     "output_type": "stream",
     "text": [
      "{'Gender': 'Male', 'Race/ethnicity': 'Asian (chinese)', 'Residence': 'NY (luckily not nyc)', 'Income Bracket': '200k+', 'Type of School': 'kinda competitive public', 'Hooks': None}\n"
     ]
    }
   ],
   "source": [
    "def extract_demographics(text):\n",
    "    demographics = {}\n",
    "\n",
    "    # Define patterns for each demographic category\n",
    "    patterns = {\n",
    "        'Gender': r'Gender\\s*:\\s*([^\\n]+)',\n",
    "        'Race/ethnicity': r'Race/ethnicity\\s*:\\s*([^\\n]+)',\n",
    "        'Residence': r'Residence\\s*:\\s*([^\\n]+)',\n",
    "        'Income Bracket': r'Income Bracket\\s*:\\s*([^\\n]+)',\n",
    "        'Type of School': r'Type of School\\s*:\\s*([^\\n]+)',\n",
    "        'Hooks': r'Hooks\\s*:\\s*([^\\n]+)'\n",
    "    }\n",
    "\n",
    "    # Extract information for each category\n",
    "    for category, pattern in patterns.items():\n",
    "        match = re.search(pattern, text)\n",
    "        demographics[category] = match.group(1).strip() if match else None\n",
    "\n",
    "    return demographics\n",
    "\n",
    "# Example usage\n",
    "demographics_text = \"* Gender: Male\\n* Race/ethnicity: Asian (chinese)\\n* Residence: NY (luckily not nyc)\\n* Income Bracket: 200k+\\n* Type of School: kinda competitive public\\n* Hooks (Recruited Athlete, URM, First-Gen, Geographic, Legacy, etc.): none!\"\n",
    "demographics_info = extract_demographics(demographics_text)\n",
    "print(demographics_info)"
   ]
  },
  {
   "cell_type": "code",
   "execution_count": 63,
   "metadata": {},
   "outputs": [
    {
     "name": "stdout",
     "output_type": "stream",
     "text": [
      "Demographics: {'Gender': 'F', 'Race/ethnicity': None, 'Residence': 'Illinois suburbs', 'Income Bracket': 'single parent makes around 70,000-90,000', 'Type of School': 'fairly competitive public high school', 'Hooks': 'One parent earned a Masters from WashU, not sure if that counts'}\n",
      "Academics: {'GPA (UW/W)': '3.9 UW, 4.6 W', 'Rank (or percentile)': 'unranked, but I’d estimate top 20%?', 'AP Music Theory (5': 'Non-Aural 5, Aural 4)'}\n",
      "Standardized Testing: {}\n",
      "Extracurriculars: {'#1': 'Sport (leaving this vague, but no scholarships are offered in the US for this sport unless at a national/Olympic level): captain for a year, 4 year varsity, state top 12', '#2': 'Family responsibilities (in my circumstances, I felt like it was appropriate to list)', '#3': 'Local business job: worked for 3 years, assistant manager for 2 years, often had solo shifts', '#4': 'Keyboard-building (like the only thing I have relevant to my intended major): just a personal hobby I spent time on, no competitions or anything professional lol', '#5': 'English tutor: started in middle school, worked with both local and overseas students, helped improve grammar, fluency, SAT/ACT, essays, etc', '#6': 'Mu Alpha Theta Society: 2 yrs', '#7': 'French Honors Society: 1 yr', '#8': 'Traditional instrument performer (both solo and part of a studio): performed at places such as multicultural events and senior centers, started in middle school', '#9': 'Volunteer cook at a charity: started in elementary school with my family', '#10': 'Volunteer at my local animal shelter: from sophomore to junior year'}\n",
      "Awards: {'#1': 'NMSC Semifinalist -> later Finalist', '#2': 'Sport state awards', '#3': 'AP awards (AP Scholar with Honor, AP Scholar with Distinction)', '#4': 'IL State Scholar', '#5': 'Local conference sport awards'}\n",
      "Letters of Recommendation: {}\n",
      "Essays: {'Common App': \"I expanded on my fifth listed activity (English tutoring), since I had asked around and gotten advice from many college friends that the Common App is where you can display non-academic traits and personality best in your application. I took my experience with English tutoring very seriously and the what I've learned from it as a teacher really stuck with me throughout the years. The beginning of the essay was a narrative essay, and then ended with the lessons I've learned and how I'll take them with me into the future (beyond college)\", 'Supplementals': 'I always felt like writing about activities listed lower on my activity list was a nice way to help round out and expand my application (this is also part of the reason I chose English tutoring for the Common App essay). I often wrote the beginning of the essays to be storytelling narratives (also like the Common App), since I felt those helped me express my feelings and experiences at those times best.'}\n",
      "Decisions: []\n"
     ]
    }
   ],
   "source": [
    "\n",
    "def extract_section(post, section_title):\n",
    "    pattern = r\"\\*\\*{}.*?\\*\\*(.*?)(?=\\*\\*[A-Z]|$)\".format(re.escape(section_title))\n",
    "    match = re.search(pattern, post, re.IGNORECASE | re.DOTALL)\n",
    "    return match.group(1).strip() if match else None\n",
    "\n",
    "def parse_key_value_list(section_text):\n",
    "    items = re.findall(r\"\\*\\s*(.*?):\\s*(.*)\", section_text)\n",
    "    return {item[0].strip(): item[1].strip() for item in items}\n",
    "\n",
    "def parse_numbered_list(section_text):\n",
    "    items = re.findall(r\"^(\\d+)\\.\\s*(.*?)$\", section_text, re.MULTILINE)\n",
    "    return {f\"#{num}\": item.strip() for num, item in items}\n",
    "\n",
    "def parse_simple_list(section_text):\n",
    "    items = re.findall(r\"\\*\\s*(.*)\", section_text)\n",
    "    return items\n",
    "\n",
    "\n",
    "def parse_demographics(post):\n",
    "\n",
    "    section = extract_section(post, \"Academics\")\n",
    "\n",
    "    demographics = {}\n",
    "\n",
    "    # Define patterns for each demographic category\n",
    "    patterns = {\n",
    "        'Gender': r'Gender\\s*:\\s*([^\\n]+)',\n",
    "        'Race/ethnicity': r'Race/ethnicity\\s*:\\s*([^\\n]+)',\n",
    "        'Residence': r'Residence\\s*:\\s*([^\\n]+)',\n",
    "        'Income Bracket': r'Income Bracket\\s*:\\s*([^\\n]+)',\n",
    "        'Type of School': r'Type of School\\s*:\\s*([^\\n]+)',\n",
    "        'Hooks': r'Hooks\\s*:\\s*([^\\n]+)'\n",
    "    }\n",
    "\n",
    "    # Extract information for each category\n",
    "    for category, pattern in patterns.items():\n",
    "        match = re.search(pattern, post)\n",
    "        demographics[category] = match.group(1).strip() if match else None\n",
    "\n",
    "    return demographics\n",
    "\n",
    "\n",
    "def parse_academics(post):\n",
    "    section = extract_section(post, \"Academics\")\n",
    "    return parse_key_value_list(section) if section else {}\n",
    "\n",
    "def parse_standardized_testing(post):\n",
    "    section = extract_section(post, \"Standardized Testing\")\n",
    "    return parse_key_value_list(section) if section else {}\n",
    "\n",
    "def parse_extracurriculars(post):\n",
    "    section = extract_section(post, \"Extracurriculars/Activities\")\n",
    "    return parse_numbered_list(section) if section else {}\n",
    "\n",
    "def parse_awards(post):\n",
    "    section = extract_section(post, \"Awards/honors\")\n",
    "    return parse_numbered_list(section) if section else {}\n",
    "\n",
    "def parse_letters_of_recommendation(post):\n",
    "    section = extract_section(post, \"Letters of Recommendation\")\n",
    "    return parse_simple_list(section) if section else {}\n",
    "\n",
    "def parse_essays(post):\n",
    "    section = extract_section(post, \"Essays\")\n",
    "    return parse_key_value_list(section) if section else {}\n",
    "\n",
    "def parse_decisions(post):\n",
    "#     section = extract_section(post, \"Decisions\")\n",
    "#     return parse_key_value_list(section) if section else {}\n",
    "    # Find the section that starts with 'Acceptances:'\n",
    "    # Find the section that starts with 'Acceptances:'\n",
    "    acceptances_section = re.search(r'(Acceptances|Accepted):\\s*\\*?\\s*(.*?)\\s*(?=\\*\\*[A-Z]|$)', post, re.IGNORECASE | re.DOTALL)\n",
    "\n",
    "    if acceptances_section:\n",
    "        acceptances_text = acceptances_section.group(1)\n",
    "        \n",
    "        # Extract individual universities\n",
    "        universities = re.findall(r'[\\n\\*]\\s*(.+?)(?:\\s*\\n|$)', acceptances_text)\n",
    "        return [uni.strip() for uni in universities if uni.strip()]\n",
    "    else:\n",
    "\n",
    "        return []\n",
    "    \n",
    "\n",
    "# Example usage\n",
    "    \n",
    "post_content = df.selftext.iloc[3]\n",
    "\n",
    "demographics = parse_demographics(post_content)\n",
    "academics = parse_academics(post_content)\n",
    "standardized_testing = parse_standardized_testing(post_content)\n",
    "extracurriculars = parse_extracurriculars(post_content)\n",
    "awards = parse_awards(post_content)\n",
    "letters_of_recommendation = parse_letters_of_recommendation(post_content)\n",
    "essays = parse_essays(post_content)\n",
    "decisions = parse_decisions(post_content)\n",
    "\n",
    "\n",
    "\n",
    "\n",
    "# Output the results\n",
    "print(\"Demographics:\", demographics)\n",
    "print(\"Academics:\", academics)\n",
    "print(\"Standardized Testing:\", standardized_testing)\n",
    "print(\"Extracurriculars:\", extracurriculars)\n",
    "print(\"Awards:\", awards)\n",
    "print(\"Letters of Recommendation:\", letters_of_recommendation)\n",
    "print(\"Essays:\", essays)\n",
    "print(\"Decisions:\", decisions)\n",
    "\n",
    "\n"
   ]
  },
  {
   "cell_type": "code",
   "execution_count": 54,
   "metadata": {},
   "outputs": [
    {
     "name": "stdout",
     "output_type": "stream",
     "text": [
      "‼️ this was for the 2022-2023 admissions cycle (I’m class of 2027) ‼️\n",
      "\n",
      "please don't dox me again... this is a repost since someone didn't hush😭. I made this post to try to help others like me who have relatively 'average' stats, but **please respect my privacy**! If i get doxxed again I will take down this post permanently, but all I wanted to do with this was to hopefully assist others with my experience of college apps and to just relieve some of the stress that comes with such an arduous, difficult process.\n",
      "\n",
      "This is super late considering it's January 2024, but I've wanted to post my results here since I've lurked on A2C and this subreddit for the entirety of my college app season...I'm very grateful for my parents' support and friends' advice when I was applying, and so I hope that my stats and essay info can similarly help others going through the devilish process that is college app season! (If you know who I am shhhhh)\n",
      "\n",
      "\\*More tips and personal opinions I have at the bottom of this post!\n",
      "\n",
      "**Demographics**\n",
      "\n",
      "* Gender: F\n",
      "* Race/Ethnicity: Asian\n",
      "* Residence: Illinois suburbs\n",
      "* Income Bracket: single parent makes around 70,000-90,000\n",
      "* Type of School: fairly competitive public high school\n",
      "* Hooks: One parent earned a Masters from WashU, not sure if that counts\n",
      "\n",
      "**Intended Major(s)**: Electrical & Computer Engineering\n",
      "\n",
      "**Academics**\n",
      "\n",
      "* GPA (UW/W): 3.9 UW, 4.6 W\n",
      "* Rank (or percentile): unranked, but I’d estimate top 20%?\n",
      "\n",
      "Freshman Year Course Load (only listed honors/AP):\n",
      "\n",
      "* AP Human Geo (4)\n",
      "* Hon English\n",
      "* Hon Alg II & Trig\n",
      "* Hon Bio\n",
      "* self-studied AP Chinese Exam (5)\n",
      "\n",
      "Sophomore Year Course Load:\n",
      "\n",
      "* AP Computer Science Principles (5)\n",
      "* AP Music Theory (5: Non-Aural 5, Aural 4)\n",
      "* Hon English II\n",
      "* Hon Precalc\n",
      "* Hon Chem\n",
      "\n",
      "Junior Year Course Load:\n",
      "\n",
      "* AP US History (5)\n",
      "* AP Lang (5)\n",
      "* AP Calc BC (5)\n",
      "* AP Psych (5)\n",
      "* AP French (didn't take exam)\n",
      "\n",
      "Senior Year Course Load (didn't study for AP exams lol):\n",
      "\n",
      "* AP Physics C (Mech 4, E&M 2)\n",
      "* AP Macro (4)\n",
      "* AP Stats (5)\n",
      "* AP Computer Science A (4)\n",
      "* Multivariable Calc dual credit\n",
      "\n",
      "**Standardized Testing**\n",
      "\n",
      "SAT (reported both):\n",
      "\n",
      "* 1530 March 2022 (770RW, 760M)\n",
      "* 1550 April 2022 (760RW, 790M, 7-7-8 Writing)\n",
      "\n",
      "ACT: 35 (35E, 34M, 36R, 35S)\n",
      "\n",
      "**Extracurriculars/Activities** (I ordered these mostly based on the amount of time I spent on each activity)\n",
      "\n",
      "1. Sport (leaving this vague, but no scholarships are offered in the US for this sport unless at a national/Olympic level): captain for a year, 4 year varsity, state top 12\n",
      "2. Family responsibilities (in my circumstances, I felt like it was appropriate to list)\n",
      "3. Local business job: worked for 3 years, assistant manager for 2 years, often had solo shifts\n",
      "4. Keyboard-building (like the only thing I have relevant to my intended major): just a personal hobby I spent time on, no competitions or anything professional lol\n",
      "5. English tutor: started in middle school, worked with both local and overseas students, helped improve grammar, fluency, SAT/ACT, essays, etc\n",
      "6. Mu Alpha Theta Society: 2 yrs\n",
      "7. French Honors Society: 1 yr\n",
      "8. Traditional instrument performer (both solo and part of a studio): performed at places such as multicultural events and senior centers, started in middle school\n",
      "9. Volunteer cook at a charity: started in elementary school with my family\n",
      "10. Volunteer at my local animal shelter: from sophomore to junior year\n",
      "\n",
      "**Awards/Honors** (nothing crazy lol, I never really focused on academic awards)\n",
      "\n",
      "1. NMSC Semifinalist -> later Finalist\n",
      "2. Sport state awards\n",
      "3. AP awards (AP Scholar with Honor, AP Scholar with Distinction)\n",
      "4. IL State Scholar\n",
      "5. Local conference sport awards\n",
      "\n",
      "**LORS**\n",
      "\n",
      "* AP US History teacher: 10/10, she allowed me to read it and asked if I wanted her to make any changes, but it was perfectly fine the way she wrote it (she's also one of my favorite teachers ever)\n",
      "* AP Stats and AP CSP teacher: probably a 9/10, I've had her for sophomore and senior year and she wrote me a letter even though I asked her during senior year fall (I didn't know she only took LOR requests if you asked in your junior year)\n",
      "\n",
      "**Interviews**\n",
      "\n",
      "Harvard Zoom interview - 9/10 interview imo, was my first college interview ever so I was super nervous, but it turned out to be very chill?? The interviewer asked me the classic 'Tell me about yourself' to start off and after I finished, we branched off my answer into entirely non-academic but very enjoyable and intriguing conversations (e.g. traveling, skiing, coffee, tea). We also then talked about why Harvard (there was a specific program there I referred to for this) and other colleges. I don't know how his perspective of me turned out as a result of the interview, but I personally was very relieved that at least I enjoyed the interview lol.\n",
      "\n",
      "I'm a coward so no other interviews (I selected no to interviews for many college applications)\n",
      "\n",
      "I think interviewers from Yale and WashU reached out to me, but I didn't see those until after college app season rip\n",
      "\n",
      "**Essays** (More on these at the end!)\n",
      "\n",
      "* Common App: I expanded on my fifth listed activity (English tutoring), since I had asked around and gotten advice from many college friends that the Common App is where you can display non-academic traits and personality best in your application. I took my experience with English tutoring very seriously and the what I've learned from it as a teacher really stuck with me throughout the years. The beginning of the essay was a narrative essay, and then ended with the lessons I've learned and how I'll take them with me into the future (beyond college)\n",
      "* Supplementals: I always felt like writing about activities listed lower on my activity list was a nice way to help round out and expand my application (this is also part of the reason I chose English tutoring for the Common App essay). I often wrote the beginning of the essays to be storytelling narratives (also like the Common App), since I felt those helped me express my feelings and experiences at those times best.\n",
      "\n",
      "**Decisions** (applied ECE / CE everywhere)\n",
      "\n",
      "*Acceptances*:\n",
      "\n",
      "U of Arizona\n",
      "\n",
      "Purdue EA\n",
      "\n",
      "Georgia Tech EA\n",
      "\n",
      "UIUC EA\n",
      "\n",
      "Case Western RD\n",
      "\n",
      "USC RD\n",
      "\n",
      "Princeton RD -> commited!!\n",
      "\n",
      "&#x200B;\n",
      "\n",
      "*Waitlists*:\n",
      "\n",
      "WashU RD waitlist -> Acceptance\n",
      "\n",
      "Rice RD\n",
      "\n",
      "CMU RD\n",
      "\n",
      "UCLA RD\n",
      "\n",
      "UPenn RD\n",
      "\n",
      "&#x200B;\n",
      "\n",
      "*Rejections:*\n",
      "\n",
      "Stanford REA\n",
      "\n",
      "Brown RD\n",
      "\n",
      "MIT RD\n",
      "\n",
      "Northwestern RD\n",
      "\n",
      "UMich EA deferred -> rejected\n",
      "\n",
      "UW Seattle RD\n",
      "\n",
      "Duke RD\n",
      "\n",
      "Cornell RD\n",
      "\n",
      "Yale RD\n",
      "\n",
      "Harvard RD\n",
      "\n",
      "Berkeley RD\n",
      "\n",
      "**Additional Information**:\n",
      "\n",
      "Up until junior year, I had absolutely no clue about anything concerning or relating to college. I had no idea which colleges were the Ivies or anything like the T20s (many of which I'd never heard of), what I needed to do for the applications, and even my major. I chose my major when I had to write about it for supplementals, since I just couldn't pick before then. As I trudged through college app season, I learned most of what I know now from YouTube videos, some subreddits, and the people around me.\n",
      "\n",
      "**Some general tips**:\n",
      "\n",
      "* Start early! Essays take time to write. I started brainstorming my Common App essay in late July, scrapped my idea in early August, and only finished it in late October (right before EAs lmao). I had a friend who was chilling since he finished all of his in September. Be that friend. During senior year fall, you're stacked with homework, college apps, and probably even more. I kept finishing applications barely before the deadline, which took quite a toll on my mentality and my academics.\n",
      "* Do research on the colleges! I knew almost nothing about all the colleges I applied to. Many of the colleges on my list were picked based on my parents' opinions and friends I knew who went to a certain college, since I just didn't know where to apply. I'd say it's good to research your plans for both academic and extracurricular experiences in (insert college), so you can mention them in your essays and you have some plans for life beyond academics if you get in.\n",
      "* I think essays are the most convincing way for you to get into any school, as I'm almost sure my essays were the driving factor behind my acceptance. Since I never considered academic achievements beyond getting good grades, I didn't have any competitions, awards, research, internships, etc to show for, so I tried my best to focus on writing essays that could demonstrate my character in compelling and intriguing ways.\n",
      "\n",
      "**Essay info**:\n",
      "\n",
      "Remember that at the end of the day, the goal of the application is to market yourself to the AOs! I found that the best way for me to do that was to do narrative essays where I could communicate my emotions most interestingly and creatively. For brainstorming, I listed several topics I could write about and started to write each one as if it were my final essay. After that, I could narrow down what topics and essays felt 'right' to me, and which ones could display my character the most accurately.\n",
      "\n",
      "This may be personal preference, but I like being more dynamic, dramatic, or even cliche in the essays. Emotive and expressive writing is great for connecting with the AOs, and I think it’s a great way to market yourself as a vivid, appealing, and memorable person, which will definitely make you pop as a person more than just your stats (the AOs will no doubt have seen many, many impressive ones, so the essays are extremely important and compelling in advertising yourself to them). However, it’s still important to REALLY, REALLY, REALLY hammer in how essential your chosen essay topic is to your character and growth as a person.\n",
      "\n",
      "Ultimately, make the AOs want YOU on their campus!!! Don’t just say what you find interesting about and would gain from (insert college), persuade them that you’ll be an excellent contribution to their community! It’s all about mutual exchanges and give and take; convince them that you’ll leave the campus a better place in your own unique way (for supplementals, be specific as you can about how you’d imagine doing so!)\n",
      "\n",
      "I cannot even begin to explain how much I relate to this terrible, tedious process of learning, brainstorming, editing, scrapping ideas, and starting over with college apps. Although I can't guarantee I'll be able to answer everything, if you have any questions, I’d be happy to help!\n",
      "\n",
      "Edit: fixed some formatting issues\n"
     ]
    }
   ],
   "source": [
    "post_content = df.selftext.iloc[3]\n",
    "print(post_content)"
   ]
  },
  {
   "cell_type": "code",
   "execution_count": 41,
   "metadata": {},
   "outputs": [],
   "source": [
    "post_content = df.selftext.loc[20]\n",
    "\n",
    "extract_section(post_content, r'Gender\\s*:\\s*([^\\n]+)')\n"
   ]
  },
  {
   "cell_type": "code",
   "execution_count": 26,
   "metadata": {},
   "outputs": [
    {
     "data": {
      "text/plain": [
       "'female, private school, first gen, NY\\n\\n- Rank: 10-15%\\n- GPA: 3.94/4.0 (6 A-‘s, 1 B)\\n- SAT: 1530\\n- AP: 5544443322\\n\\n**Before I get attacked again😭 I meant I didn’t have perfect stats like most admitted students (referring to my AP scores and rank). I never said they were bad; I just said they “were’t the best” compared to others accepted to the same schools and peers at my school.**\\n\\nResearch\\n- National Junior Science & Humanities Symposium \\n- Initiated two independent biomed projects\\n- Interned at my local university lab over the summer\\n\\nMusic\\n- YoungArts Finalist\\n- Attended prestigious summer music camp\\n- Won a lot of international competitions \\n- Famous musician wrote one of my letter of recs\\n\\nLeadership/Community\\n-  President & founder of 2 organizations that address educational disparities\\n- President’s Volunteer Service Award, Gold\\n\\nStanford REA ✅'"
      ]
     },
     "execution_count": 26,
     "metadata": {},
     "output_type": "execute_result"
    }
   ],
   "source": [
    "post_content"
   ]
  },
  {
   "cell_type": "code",
   "execution_count": 20,
   "metadata": {},
   "outputs": [
    {
     "ename": "TypeError",
     "evalue": "expected string or bytes-like object, got 'NoneType'",
     "output_type": "error",
     "traceback": [
      "\u001b[1;31m---------------------------------------------------------------------------\u001b[0m",
      "\u001b[1;31mTypeError\u001b[0m                                 Traceback (most recent call last)",
      "Cell \u001b[1;32mIn[20], line 26\u001b[0m\n\u001b[0;32m     23\u001b[0m post_content \u001b[38;5;241m=\u001b[39m df\u001b[38;5;241m.\u001b[39mselftext\u001b[38;5;241m.\u001b[39mloc[\u001b[38;5;241m35\u001b[39m]\n\u001b[0;32m     25\u001b[0m \u001b[38;5;66;03m# Parsing each section\u001b[39;00m\n\u001b[1;32m---> 26\u001b[0m demographics \u001b[38;5;241m=\u001b[39m \u001b[43mextract_demographics\u001b[49m\u001b[43m(\u001b[49m\u001b[43mextract_section\u001b[49m\u001b[43m(\u001b[49m\u001b[43mpost_content\u001b[49m\u001b[43m,\u001b[49m\u001b[43m \u001b[49m\u001b[38;5;124;43m\"\u001b[39;49m\u001b[38;5;124;43mDemographics\u001b[39;49m\u001b[38;5;124;43m\"\u001b[39;49m\u001b[43m)\u001b[49m\u001b[43m)\u001b[49m\n\u001b[0;32m     27\u001b[0m academics \u001b[38;5;241m=\u001b[39m parse_key_value_section(extract_section(post_content, \u001b[38;5;124m\"\u001b[39m\u001b[38;5;124mAcademics\u001b[39m\u001b[38;5;124m\"\u001b[39m))\n\u001b[0;32m     28\u001b[0m standardized_testing \u001b[38;5;241m=\u001b[39m parse_key_value_section(extract_section(post_content, \u001b[38;5;124m\"\u001b[39m\u001b[38;5;124mStandardized Testing\u001b[39m\u001b[38;5;124m\"\u001b[39m))\n",
      "Cell \u001b[1;32mIn[12], line 16\u001b[0m, in \u001b[0;36mextract_demographics\u001b[1;34m(text)\u001b[0m\n\u001b[0;32m     14\u001b[0m \u001b[38;5;66;03m# Extract information for each category\u001b[39;00m\n\u001b[0;32m     15\u001b[0m \u001b[38;5;28;01mfor\u001b[39;00m category, pattern \u001b[38;5;129;01min\u001b[39;00m patterns\u001b[38;5;241m.\u001b[39mitems():\n\u001b[1;32m---> 16\u001b[0m     match \u001b[38;5;241m=\u001b[39m \u001b[43mre\u001b[49m\u001b[38;5;241;43m.\u001b[39;49m\u001b[43msearch\u001b[49m\u001b[43m(\u001b[49m\u001b[43mpattern\u001b[49m\u001b[43m,\u001b[49m\u001b[43m \u001b[49m\u001b[43mtext\u001b[49m\u001b[43m)\u001b[49m\n\u001b[0;32m     17\u001b[0m     demographics[category] \u001b[38;5;241m=\u001b[39m match\u001b[38;5;241m.\u001b[39mgroup(\u001b[38;5;241m1\u001b[39m)\u001b[38;5;241m.\u001b[39mstrip() \u001b[38;5;28;01mif\u001b[39;00m match \u001b[38;5;28;01melse\u001b[39;00m \u001b[38;5;28;01mNone\u001b[39;00m\n\u001b[0;32m     19\u001b[0m \u001b[38;5;28;01mreturn\u001b[39;00m demographics\n",
      "File \u001b[1;32m~\\AppData\\Local\\Programs\\Python\\Python311\\Lib\\re\\__init__.py:176\u001b[0m, in \u001b[0;36msearch\u001b[1;34m(pattern, string, flags)\u001b[0m\n\u001b[0;32m    173\u001b[0m \u001b[38;5;28;01mdef\u001b[39;00m \u001b[38;5;21msearch\u001b[39m(pattern, string, flags\u001b[38;5;241m=\u001b[39m\u001b[38;5;241m0\u001b[39m):\n\u001b[0;32m    174\u001b[0m \u001b[38;5;250m    \u001b[39m\u001b[38;5;124;03m\"\"\"Scan through string looking for a match to the pattern, returning\u001b[39;00m\n\u001b[0;32m    175\u001b[0m \u001b[38;5;124;03m    a Match object, or None if no match was found.\"\"\"\u001b[39;00m\n\u001b[1;32m--> 176\u001b[0m     \u001b[38;5;28;01mreturn\u001b[39;00m \u001b[43m_compile\u001b[49m\u001b[43m(\u001b[49m\u001b[43mpattern\u001b[49m\u001b[43m,\u001b[49m\u001b[43m \u001b[49m\u001b[43mflags\u001b[49m\u001b[43m)\u001b[49m\u001b[38;5;241;43m.\u001b[39;49m\u001b[43msearch\u001b[49m\u001b[43m(\u001b[49m\u001b[43mstring\u001b[49m\u001b[43m)\u001b[49m\n",
      "\u001b[1;31mTypeError\u001b[0m: expected string or bytes-like object, got 'NoneType'"
     ]
    }
   ],
   "source": [
    "import re\n",
    "\n",
    "def extract_section(post, section_title):\n",
    "    # Creating a pattern that is case-insensitive\n",
    "    pattern = r\"\\*\\*{}.*?\\*\\*(.*?)(?=\\*\\*[A-Z]|$)\".format(re.escape(section_title))\n",
    "    match = re.search(pattern, post, re.IGNORECASE | re.DOTALL)\n",
    "    return match.group(1).strip() if match else None\n",
    "\n",
    "\n",
    "def parse_key_value_section(section_text):\n",
    "    data = {}\n",
    "    for line in section_text.split('\\n\\n'):\n",
    "        if ':' in line:\n",
    "            key, value = line.split(':', 1)\n",
    "            data[key.strip()] = value.strip()\n",
    "    return data\n",
    "\n",
    "def parse_list_section(section_text):\n",
    "    items = re.findall(r\"\\\\#(\\d+)\\s*(.*)\", section_text)\n",
    "    return {f\"#{num}\": item.strip() for num, item in items}\n",
    "\n",
    "# Assuming `post_content` contains the text of the Reddit post\n",
    "post_content = df.selftext.loc[35]\n",
    "\n",
    "# Parsing each section\n",
    "demographics = extract_demographics(extract_section(post_content, \"Demographics\"))\n",
    "academics = parse_key_value_section(extract_section(post_content, \"Academics\"))\n",
    "standardized_testing = parse_key_value_section(extract_section(post_content, \"Standardized Testing\"))\n",
    "extracurriculars = parse_list_section(extract_section(post_content, \"Extracurriculars/Activities\"))\n",
    "awards = parse_list_section(extract_section(post_content, \"Awards/Honors\"))\n",
    "letters_of_recommendation = parse_key_value_section(extract_section(post_content, \"Letters of Recommendation\"))\n",
    "essays = parse_key_value_section(extract_section(post_content, \"Essays\"))\n",
    "decisions = parse_key_value_section(extract_section(post_content, \"Decisions\"))\n",
    "\n",
    "# Output the results\n",
    "print(\"Demographics:\", demographics)\n",
    "print(\"Academics:\", academics.keys())\n",
    "print(\"Standardized Testing:\", standardized_testing)\n",
    "print(\"Extracurriculars:\", extracurriculars)\n",
    "print(\"Awards:\", awards)\n",
    "print(\"Letters of Recommendation:\", letters_of_recommendation)\n",
    "print(\"Essays:\", essays)\n",
    "print(\"Decisions:\", decisions)\n"
   ]
  },
  {
   "cell_type": "code",
   "execution_count": 19,
   "metadata": {},
   "outputs": [
    {
     "ename": "NameError",
     "evalue": "name 'parse_key_value_section' is not defined",
     "output_type": "error",
     "traceback": [
      "\u001b[1;31m---------------------------------------------------------------------------\u001b[0m",
      "\u001b[1;31mNameError\u001b[0m                                 Traceback (most recent call last)",
      "Cell \u001b[1;32mIn[19], line 5\u001b[0m\n\u001b[0;32m      2\u001b[0m post_content \u001b[38;5;241m=\u001b[39m df\u001b[38;5;241m.\u001b[39mselftext\u001b[38;5;241m.\u001b[39mloc[\u001b[38;5;241m35\u001b[39m]\n\u001b[0;32m      4\u001b[0m \u001b[38;5;66;03m# Parsing each section\u001b[39;00m\n\u001b[1;32m----> 5\u001b[0m demographics \u001b[38;5;241m=\u001b[39m \u001b[43mparse_key_value_section\u001b[49m(extract_section(post_content, \u001b[38;5;124m\"\u001b[39m\u001b[38;5;124mDemographics\u001b[39m\u001b[38;5;124m\"\u001b[39m))\n\u001b[0;32m      7\u001b[0m \u001b[38;5;28mprint\u001b[39m(demographics)\n\u001b[0;32m      9\u001b[0m post_content[:\u001b[38;5;241m1000\u001b[39m]\n",
      "\u001b[1;31mNameError\u001b[0m: name 'parse_key_value_section' is not defined"
     ]
    }
   ],
   "source": [
    "# Assuming `post_content` contains the text of the Reddit post\n",
    "post_content = df.selftext.loc[35]\n",
    "\n",
    "# Parsing each section\n",
    "demographics = parse_key_value_section(extract_section(post_content, \"Demographics\"))\n",
    "\n",
    "print(demographics)\n",
    "\n",
    "post_content[:1000]"
   ]
  },
  {
   "cell_type": "code",
   "execution_count": 17,
   "metadata": {},
   "outputs": [
    {
     "data": {
      "text/plain": [
       "\"Demographics\\n\\nGender: Female (trans)\\n\\nRace/Ethnicity: White\\n\\nResidence: NJ\\n\\nIncome Bracket: Middle class\\n\\nType of School: Public (wealthy area)\\n\\nHooks (Recruited Athlete, URM, First-Gen, Geographic, Legacy, etc.):  N/A\\n\\nIntended Major(s): Computer Science and Math\\n\\n&#x200B;\\n\\nAcademics\\n\\nGPA (UW/W):  3.9 / 4.5\\n\\nRank (or percentile): Top 10%\\n\\n\\\\# of Honors/AP/IB/Dual Enrollment/etc.: 10 APs (Calc AB+BC, Stat, Bio, Chem, Physics C, Pysch, Econ, Lang, CS A), rest honors\\n\\nSenior Year Course Load: 4 APs, 1 honors, study hall\\n\\n&#x200B;\\n\\nStandardized Testing\\n\\nSAT I: took once - 1540 (780RW, 760M lol)\\n\\n&#x200B;\\n\\nExtracurriculars/ActivitiesList all extracurricular involvements, including leadership roles, time commitments, major achievements, etc.\\n\\n\\\\#1   Self taught pianist - 10 years - Taught myself from age 7 using sheet music and gradually became better over the years by seeking out more and more challenging music that interested me.\\n\\n\\\\#2   Chess Club - all 4 years - Volunteered at elementary schools weekly to teach chess basics and am VP.\\n\\n\\\\#3   Rock and Roll Club - 11th and 12th - After school rock band run through the school, played keyboard and it was pretty awesome.  We performed in biannual concerts.\\n\\n\\\\#4   Underwater Robotics - 11th and 12th - Did some coding for the team and organized technical documentation (tbh it was kind of a mess, it's being run differently this year)\\n\\n.#5  Part time job as cashier at grocery store\\n\\nThat's it.  Wish I had done more (they're for sure the weakest part of my application), but I'm glad I made a point not to cynically do application fluff like honors societies and whatnot.\\n\\n&#x200B;\\n\\nAwards/Honors\\n\\n\\\\#1   NATIONAL MERIT SEMIFINALIST - Big one, NJ is the hardest state to get it in I'm so lucky I barely made the cutoff.\\n\\n\\\\#2   Local Scholarship for 5's on STEM APs\\n\\n\\\\#3   AP Scholar something\\n\\n&#x200B;\\n\\nLetters of Recommendation\\n\\nLetter from US History Teacher - idk 6/10\\n\\nLetter from Bio Teacher - we were closer, I'd guess 8/10\\n\\nHave no way of knowing, ofc\\n\\n&#x200B;\\n\\nEssays\\n\\nMy common app essay was about my learning to love nature and how that ties in with my love of discovery and curiosity (heavily feature a carpenter bee).  Honestly was a pretty solid, original essay that is IMO well written and entertaining.\\n\\n&#x200B;\\n\\nDecisions (indicate ED/EA/REA/SCEA/RD)\\n\\nAcceptances:\\n\\nNJIT EA1 (Honors College) - COMMITTED!\\n\\nSome super random safeties no one cares about (Sorry UMaine)\\n\\n&#x200B;\\n\\nAdditional Info:\\n\\nMy only goal with college apps was to get as much money as I possibly could.  I have no financial support whatsoever (barring 5500 in fasfa loans), and thanks to my parents being conservative Christians and me being trans, I won't have a home to go back to during breaks.  While me having national merit should've been a ticket to a plethora of full rides, every single one was located in a state that has been actively pushing anti trans laws (Texas, Florida, Alabama, etc.) that I simply would not feel safe to live in.  After looking around, I figured that my best shot at getting the money I needed was NJIT, through the Albert Dorman Honors College.  If I didn't get in, at least the university offers full tuition for NMFs anyway (if I would be able to manage finding a room nearby and all my costs).  Therefore, I didn't see the point in any regular decision, since any top private aid wouldn't beat full tution, and the application fees come out of my own pocket.  I really tailored my application and supplemental essay towards NJIT, and also wrote a mini essay in additional info explaining my whole situation.\\n\\nThank god this Hail Mary worked.  I know my application was good, but honors is crazy competitive (1500+ sat average, only 150 slots a year) and it's a crazy relief I got in.  Being constantly worried that you won't be able to attend a college right after high school and that you might have to move by yourself out of state or something drastic to afford to live really makes you appreciate the opportunity of a full ride.  I'm super excited for college and can't wait to be a student full time!\""
      ]
     },
     "execution_count": 17,
     "metadata": {},
     "output_type": "execute_result"
    }
   ],
   "source": [
    "df[\"selftext\"].iloc[1]"
   ]
  },
  {
   "cell_type": "code",
   "execution_count": 9,
   "metadata": {},
   "outputs": [
    {
     "name": "stdout",
     "output_type": "stream",
     "text": [
      "False\n",
      "False\n",
      "False\n",
      "False\n",
      "False\n",
      "False\n",
      "False\n",
      "False\n",
      "False\n",
      "False\n"
     ]
    }
   ],
   "source": [
    "for i in posts:\n",
    "    print(i.is_original_content)"
   ]
  },
  {
   "cell_type": "code",
   "execution_count": 16,
   "metadata": {},
   "outputs": [],
   "source": [
    "tmp = list(submission)"
   ]
  },
  {
   "cell_type": "code",
   "execution_count": 21,
   "metadata": {},
   "outputs": [
    {
     "data": {
      "text/plain": [
       "praw.models.reddit.submission.Submission"
      ]
     },
     "execution_count": 21,
     "metadata": {},
     "output_type": "execute_result"
    }
   ],
   "source": [
    "type(tmp[0])"
   ]
  }
 ],
 "metadata": {
  "kernelspec": {
   "display_name": ".venv",
   "language": "python",
   "name": "python3"
  },
  "language_info": {
   "codemirror_mode": {
    "name": "ipython",
    "version": 3
   },
   "file_extension": ".py",
   "mimetype": "text/x-python",
   "name": "python",
   "nbconvert_exporter": "python",
   "pygments_lexer": "ipython3",
   "version": "3.11.7"
  }
 },
 "nbformat": 4,
 "nbformat_minor": 2
}
