{
 "cells": [
  {
   "cell_type": "code",
   "execution_count": 1,
   "metadata": {},
   "outputs": [],
   "source": [
    "import praw\n",
    "import pandas as pd\n",
    "import re\n",
    "from dotenv import load_dotenv\n",
    "import os\n",
    "import numpy as np\n",
    "from datetime import date"
   ]
  },
  {
   "cell_type": "code",
   "execution_count": 2,
   "metadata": {},
   "outputs": [],
   "source": [
    "load_dotenv()\n",
    "\n",
    "REDDIT_CLIENT_ID = os.getenv(\"REDDIT_CLIENT_ID\",)\n",
    "REDDIT_CLIENT_SECRET = os.getenv(\"REDDIT_CLIENT_SECRET\")\n",
    "REDDIT_USER_AGENT = os.getenv(\"REDDIT_USER_AGENT\")\n",
    "REDDIT_USER_NAME = os.getenv(\"REDDIT_USER_NAME\")\n",
    "REDDIT_USER_PASSWORD = os.getenv(\"REDDIT_USER_PASSWORD\")\n",
    "\n",
    "assert REDDIT_CLIENT_ID != \"\"\n",
    "assert REDDIT_CLIENT_SECRET != \"\"\n",
    "assert REDDIT_USER_AGENT != \"\""
   ]
  },
  {
   "cell_type": "code",
   "execution_count": 3,
   "metadata": {},
   "outputs": [],
   "source": [
    "# create reddit\n",
    "reddit = praw.Reddit(\n",
    "    client_id = REDDIT_CLIENT_ID,\n",
    "    client_secret = REDDIT_CLIENT_SECRET,\n",
    "    user_agent = REDDIT_USER_AGENT\n",
    ")"
   ]
  },
  {
   "cell_type": "code",
   "execution_count": 4,
   "metadata": {},
   "outputs": [],
   "source": [
    "# Function to extract posts from a subreddit\n",
    "def extract_subreddit_data(subreddit, limit=100, sorts = [\"controversial\",\"hot\",\"new\",\"rising\",\"top\"]):\n",
    "    posts = []\n",
    "    subreddit_instance = reddit.subreddit(subreddit)\n",
    "\n",
    "    for s in sorts:\n",
    "        for submission in getattr(subreddit_instance,s)(limit=limit):\n",
    "            # Extract relevant data from each post\n",
    "            posts.append({\n",
    "                'author':submission.author,\n",
    "                'author_flair_text':submission.author_flair_text,\n",
    "                'created_utc': submission.created_utc,\n",
    "                'is_self' : submission.is_self,\n",
    "                'link_flair_text':submission.link_flair_text,\n",
    "                'name':submission.name,\n",
    "                'num_comments':submission.num_comments,\n",
    "                'score':submission.score,\n",
    "                'selftext':submission.selftext,\n",
    "                'stickied':submission.stickied,\n",
    "                'title':submission.title,\n",
    "                'upvote_ratio':submission.upvote_ratio,\n",
    "                'url': submission.url\n",
    "            })\n",
    "    \n",
    "    return posts"
   ]
  },
  {
   "cell_type": "code",
   "execution_count": 5,
   "metadata": {},
   "outputs": [],
   "source": [
    "posts = extract_subreddit_data(\"collegeresults\", limit = None)"
   ]
  },
  {
   "cell_type": "code",
   "execution_count": 6,
   "metadata": {},
   "outputs": [
    {
     "data": {
      "text/plain": [
       "(2119, 13)"
      ]
     },
     "execution_count": 6,
     "metadata": {},
     "output_type": "execute_result"
    }
   ],
   "source": [
    "# convert to Data Frame\n",
    "df = pd.DataFrame(posts)\n",
    "df = df[~df.stickied]\n",
    "\n",
    "# Remove duplicate posts based on the full name\n",
    "df = df.drop_duplicates(subset=\"name\",keep=\"first\",ignore_index=True)\n",
    "\n",
    "# dimension of data\n",
    "df.shape"
   ]
  },
  {
   "cell_type": "code",
   "execution_count": 8,
   "metadata": {},
   "outputs": [
    {
     "data": {
      "text/html": [
       "<div>\n",
       "<style scoped>\n",
       "    .dataframe tbody tr th:only-of-type {\n",
       "        vertical-align: middle;\n",
       "    }\n",
       "\n",
       "    .dataframe tbody tr th {\n",
       "        vertical-align: top;\n",
       "    }\n",
       "\n",
       "    .dataframe thead th {\n",
       "        text-align: right;\n",
       "    }\n",
       "</style>\n",
       "<table border=\"1\" class=\"dataframe\">\n",
       "  <thead>\n",
       "    <tr style=\"text-align: right;\">\n",
       "      <th></th>\n",
       "      <th>author</th>\n",
       "      <th>author_flair_text</th>\n",
       "      <th>created_utc</th>\n",
       "      <th>is_self</th>\n",
       "      <th>link_flair_text</th>\n",
       "      <th>name</th>\n",
       "      <th>num_comments</th>\n",
       "      <th>score</th>\n",
       "      <th>selftext</th>\n",
       "      <th>stickied</th>\n",
       "      <th>title</th>\n",
       "      <th>upvote_ratio</th>\n",
       "      <th>url</th>\n",
       "    </tr>\n",
       "  </thead>\n",
       "  <tbody>\n",
       "    <tr>\n",
       "      <th>0</th>\n",
       "      <td>jbut9524</td>\n",
       "      <td>None</td>\n",
       "      <td>1.651963e+09</td>\n",
       "      <td>True</td>\n",
       "      <td>3.8+|1500+/34+|STEM</td>\n",
       "      <td>t3_uko4vp</td>\n",
       "      <td>40</td>\n",
       "      <td>0</td>\n",
       "      <td>**Gender/Race:** Asian, Male\\n\\n**Residence:**...</td>\n",
       "      <td>False</td>\n",
       "      <td>Asian Male in CS gets rejected from everywhere...</td>\n",
       "      <td>0.47</td>\n",
       "      <td>https://www.reddit.com/r/collegeresults/commen...</td>\n",
       "    </tr>\n",
       "    <tr>\n",
       "      <th>1</th>\n",
       "      <td>rowale1</td>\n",
       "      <td>None</td>\n",
       "      <td>1.697767e+09</td>\n",
       "      <td>True</td>\n",
       "      <td>3.2+|1300+/28+|Art/Hum</td>\n",
       "      <td>t3_17bztn3</td>\n",
       "      <td>212</td>\n",
       "      <td>6</td>\n",
       "      <td>**Demographics**\\n\\n**Gender**: Male\\n\\n**Race...</td>\n",
       "      <td>False</td>\n",
       "      <td>RESULTS FOR NYU ADMIT, CLASS OF 2023</td>\n",
       "      <td>0.52</td>\n",
       "      <td>https://www.reddit.com/r/collegeresults/commen...</td>\n",
       "    </tr>\n",
       "    <tr>\n",
       "      <th>2</th>\n",
       "      <td>Minute_Champion_3188</td>\n",
       "      <td>None</td>\n",
       "      <td>1.703573e+09</td>\n",
       "      <td>True</td>\n",
       "      <td>3.8+|1500+/34+|STEM</td>\n",
       "      <td>t3_18r264u</td>\n",
       "      <td>97</td>\n",
       "      <td>69</td>\n",
       "      <td>female, private school, first gen, NY\\n\\n- Ran...</td>\n",
       "      <td>False</td>\n",
       "      <td>Grades weren’t the best but accepted to Stanfo...</td>\n",
       "      <td>0.60</td>\n",
       "      <td>https://www.reddit.com/r/collegeresults/commen...</td>\n",
       "    </tr>\n",
       "    <tr>\n",
       "      <th>3</th>\n",
       "      <td>Known_Car4289</td>\n",
       "      <td>None</td>\n",
       "      <td>1.649100e+09</td>\n",
       "      <td>True</td>\n",
       "      <td>3.6+|1300+/28+|STEM</td>\n",
       "      <td>t3_twagph</td>\n",
       "      <td>61</td>\n",
       "      <td>20</td>\n",
       "      <td>**Note:** Using throwaway account to post so I...</td>\n",
       "      <td>False</td>\n",
       "      <td>asian + male + cs + IVY + crazy story</td>\n",
       "      <td>0.56</td>\n",
       "      <td>https://www.reddit.com/r/collegeresults/commen...</td>\n",
       "    </tr>\n",
       "    <tr>\n",
       "      <th>4</th>\n",
       "      <td>dumbasscorgi1</td>\n",
       "      <td>None</td>\n",
       "      <td>1.680219e+09</td>\n",
       "      <td>True</td>\n",
       "      <td>3.8+|1500+/34+|Art/Hum</td>\n",
       "      <td>t3_1272uf8</td>\n",
       "      <td>17</td>\n",
       "      <td>2</td>\n",
       "      <td>Demographics: White, gay, non-binary, Jewish, ...</td>\n",
       "      <td>False</td>\n",
       "      <td>Turns out I’m a failure :)</td>\n",
       "      <td>0.52</td>\n",
       "      <td>https://www.reddit.com/r/collegeresults/commen...</td>\n",
       "    </tr>\n",
       "  </tbody>\n",
       "</table>\n",
       "</div>"
      ],
      "text/plain": [
       "                 author author_flair_text   created_utc  is_self  \\\n",
       "0              jbut9524              None  1.651963e+09     True   \n",
       "1               rowale1              None  1.697767e+09     True   \n",
       "2  Minute_Champion_3188              None  1.703573e+09     True   \n",
       "3         Known_Car4289              None  1.649100e+09     True   \n",
       "4         dumbasscorgi1              None  1.680219e+09     True   \n",
       "\n",
       "          link_flair_text        name  num_comments  score  \\\n",
       "0     3.8+|1500+/34+|STEM   t3_uko4vp            40      0   \n",
       "1  3.2+|1300+/28+|Art/Hum  t3_17bztn3           212      6   \n",
       "2     3.8+|1500+/34+|STEM  t3_18r264u            97     69   \n",
       "3     3.6+|1300+/28+|STEM   t3_twagph            61     20   \n",
       "4  3.8+|1500+/34+|Art/Hum  t3_1272uf8            17      2   \n",
       "\n",
       "                                            selftext  stickied  \\\n",
       "0  **Gender/Race:** Asian, Male\\n\\n**Residence:**...     False   \n",
       "1  **Demographics**\\n\\n**Gender**: Male\\n\\n**Race...     False   \n",
       "2  female, private school, first gen, NY\\n\\n- Ran...     False   \n",
       "3  **Note:** Using throwaway account to post so I...     False   \n",
       "4  Demographics: White, gay, non-binary, Jewish, ...     False   \n",
       "\n",
       "                                               title  upvote_ratio  \\\n",
       "0  Asian Male in CS gets rejected from everywhere...          0.47   \n",
       "1               RESULTS FOR NYU ADMIT, CLASS OF 2023          0.52   \n",
       "2  Grades weren’t the best but accepted to Stanfo...          0.60   \n",
       "3              asian + male + cs + IVY + crazy story          0.56   \n",
       "4                         Turns out I’m a failure :)          0.52   \n",
       "\n",
       "                                                 url  \n",
       "0  https://www.reddit.com/r/collegeresults/commen...  \n",
       "1  https://www.reddit.com/r/collegeresults/commen...  \n",
       "2  https://www.reddit.com/r/collegeresults/commen...  \n",
       "3  https://www.reddit.com/r/collegeresults/commen...  \n",
       "4  https://www.reddit.com/r/collegeresults/commen...  "
      ]
     },
     "execution_count": 8,
     "metadata": {},
     "output_type": "execute_result"
    }
   ],
   "source": [
    "df.head(5)"
   ]
  },
  {
   "cell_type": "code",
   "execution_count": 9,
   "metadata": {},
   "outputs": [
    {
     "name": "stdout",
     "output_type": "stream",
     "text": [
      "../data/collegeresults-scraped-01-07-2024.csv\n"
     ]
    }
   ],
   "source": [
    "# save dataset\n",
    "filename = \"../data/\" + \"collegeresults-scraped-\" + date.today().strftime(\"%m-%d-%Y\") + \".csv\"\n",
    "print(filename)\n",
    "df.to_csv(filename,index=False)"
   ]
  },
  {
   "cell_type": "code",
   "execution_count": 14,
   "metadata": {},
   "outputs": [
    {
     "name": "stdout",
     "output_type": "stream",
     "text": [
      "Too many requests (Received 429 HTTP response)... Ending random post retrieval\n"
     ]
    },
    {
     "data": {
      "text/plain": [
       "1.0"
      ]
     },
     "execution_count": 14,
     "metadata": {},
     "output_type": "execute_result"
    }
   ],
   "source": [
    "# what happens if I get random posts using subreddit.random()?\n",
    "# will it yield new posts?\n",
    "post_fullnames = set(df[\"name\"])\n",
    "\n",
    "subreddit = reddit.subreddit(\"collegeresults\")\n",
    "random_submission_fullnames = []\n",
    "\n",
    "for i in range(1000):\n",
    "    try:\n",
    "        random_submission_fullnames.append(subreddit.random().name)\n",
    "    except:\n",
    "        print(\"Too many requests (Received 429 HTTP response)... Ending random post retrieval\")\n",
    "        break\n",
    "\n",
    "submission_exists = np.array([i in post_fullnames for i in random_submission_fullnames])\n",
    "submission_exists.mean()\n"
   ]
  },
  {
   "cell_type": "code",
   "execution_count": 15,
   "metadata": {},
   "outputs": [
    {
     "data": {
      "text/plain": [
       "505"
      ]
     },
     "execution_count": 15,
     "metadata": {},
     "output_type": "execute_result"
    }
   ],
   "source": [
    "len(submission_exists)"
   ]
  }
 ],
 "metadata": {
  "kernelspec": {
   "display_name": ".venv",
   "language": "python",
   "name": "python3"
  },
  "language_info": {
   "codemirror_mode": {
    "name": "ipython",
    "version": 3
   },
   "file_extension": ".py",
   "mimetype": "text/x-python",
   "name": "python",
   "nbconvert_exporter": "python",
   "pygments_lexer": "ipython3",
   "version": "3.11.7"
  }
 },
 "nbformat": 4,
 "nbformat_minor": 2
}
